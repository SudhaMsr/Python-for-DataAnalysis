{
 "cells": [
  {
   "cell_type": "markdown",
   "id": "9a379bcd-dcd9-480c-a1dc-8e1da7927b96",
   "metadata": {},
   "source": [
    "###"
   ]
  },
  {
   "cell_type": "markdown",
   "id": "86d013b8-611e-4bec-9df9-368ff24c3506",
   "metadata": {},
   "source": [
    "\n",
    "---\n",
    "\n",
    "# **Module 4: Python for Data Analysis**\n",
    "\n",
    "Data analysis in Python mostly happens with two powerful libraries: **NumPy** and **Pandas**. Together, they let you work with everything from small CSV files to massive datasets stored in databases.\n",
    "\n",
    "Let’s start from the beginning and move up in difficulty so it’s clear to **both beginners and advanced learners**.\n",
    "\n",
    "---\n",
    "\n",
    "## 🟢 Part 1: Working with NumPy and Pandas\n",
    "\n",
    "### 🔹 What is NumPy?\n",
    "\n",
    "* NumPy stands for **Numerical Python**.\n",
    "* It is the foundation of data science in Python because it allows you to work with **arrays** (grids of numbers).\n",
    "* Unlike normal Python lists, NumPy arrays are:\n",
    "\n",
    "  * **Faster** (because they’re implemented in C).\n",
    "  * **More memory efficient**.\n",
    "  * **Support vectorized operations** (you can apply math to entire arrays at once).\n",
    "\n",
    "#### Example: Python list vs NumPy array"
   ]
  },
  {
   "cell_type": "code",
   "execution_count": 1,
   "id": "e398b341-9289-4b94-b894-b3ddc88cb7bd",
   "metadata": {},
   "outputs": [],
   "source": [
    "import numpy as np"
   ]
  },
  {
   "cell_type": "code",
   "execution_count": 2,
   "id": "11042c48-be9d-495b-b864-ef93f6374c08",
   "metadata": {},
   "outputs": [],
   "source": [
    "# Python list\n",
    "numbers_list = [1, 2, 3, 4, 5]\n"
   ]
  },
  {
   "cell_type": "code",
   "execution_count": 3,
   "id": "c2d5abfe-cf2e-49a9-b158-aad599889a78",
   "metadata": {},
   "outputs": [],
   "source": [
    "# NumPy array\n",
    "numbers_array = np.array([1, 2, 3, 4, 5])"
   ]
  },
  {
   "cell_type": "code",
   "execution_count": 4,
   "id": "faae85c0-0e74-4e40-b2e4-1944b7d75e55",
   "metadata": {},
   "outputs": [
    {
     "name": "stdout",
     "output_type": "stream",
     "text": [
      "[1, 2, 3, 4, 5, 1, 2, 3, 4, 5]\n",
      "[ 2  4  6  8 10]\n"
     ]
    }
   ],
   "source": [
    "print(numbers_list * 2)     # repeats the list → [1,2,3,4,5,1,2,3,4,5]\n",
    "print(numbers_array * 2)    # multiplies each element → [2 4 6 8 10]"
   ]
  },
  {
   "cell_type": "markdown",
   "id": "fb905c8c-b67d-495e-9a05-8f145dcf607c",
   "metadata": {},
   "source": [
    "\n",
    "👉 With NumPy, multiplying the array by 2 automatically applies to **every element**. That’s called **vectorization**, and it’s why NumPy is so efficient.\n",
    "\n",
    "#### Common NumPy uses\n",
    "\n",
    "* Creating arrays (`np.array`, `np.arange`, `np.linspace`).\n",
    "* Mathematical operations (`np.mean`, `np.std`, `np.sum`).\n",
    "* Linear algebra (matrix multiplication, eigenvalues).\n",
    "* Random number generation (`np.random`).\n",
    "\n",
    "Example:"
   ]
  },
  {
   "cell_type": "code",
   "execution_count": 5,
   "id": "053cb0b8-9e25-4db0-9fac-7f132d2b477b",
   "metadata": {},
   "outputs": [
    {
     "name": "stdout",
     "output_type": "stream",
     "text": [
      "Mean: 30.0\n",
      "Standard deviation: 14.142135623730951\n"
     ]
    }
   ],
   "source": [
    "arr = np.array([10, 20, 30, 40, 50])\n",
    "print(\"Mean:\", np.mean(arr))   # 30.0\n",
    "print(\"Standard deviation:\", np.std(arr))  # 14.14"
   ]
  },
  {
   "cell_type": "markdown",
   "id": "acd71b0e-533e-4236-8d5c-82a9de9d1917",
   "metadata": {},
   "source": [
    "---\n",
    "\n",
    "### 🔹 What is Pandas?\n",
    "\n",
    "* Pandas is built on top of NumPy and gives you **tabular data structures**.\n",
    "* Instead of just arrays, Pandas provides:\n",
    "\n",
    "  * **Series** → 1D labeled array (like one Excel column).\n",
    "  * **DataFrame** → 2D table (like an Excel sheet or SQL table).\n",
    "\n",
    "Think of Pandas DataFrame as your **main tool for data analysis in Python**.\n",
    "\n",
    "#### Example: Creating a DataFrame\n"
   ]
  },
  {
   "cell_type": "code",
   "execution_count": 6,
   "id": "ff8d8901-400f-41d6-9db1-8820697ea990",
   "metadata": {},
   "outputs": [
    {
     "name": "stdout",
     "output_type": "stream",
     "text": [
      "      Name  Age        City\n",
      "0    Alice   25      London\n",
      "1      Bob   30     Bristol\n",
      "2  Charlie   35  Manchester\n"
     ]
    }
   ],
   "source": [
    "import pandas as pd\n",
    "\n",
    "data = {\n",
    "    \"Name\": [\"Alice\", \"Bob\", \"Charlie\"],\n",
    "    \"Age\": [25, 30, 35],\n",
    "    \"City\": [\"London\", \"Bristol\", \"Manchester\"]\n",
    "}\n",
    "\n",
    "df = pd.DataFrame(data)\n",
    "print(df)"
   ]
  },
  {
   "cell_type": "markdown",
   "id": "7cd494ea-4d8e-41b2-b9dc-17c123eb8fa6",
   "metadata": {},
   "source": [
    "\n",
    "* Each **row** = one record (like one customer).\n",
    "* Each **column** = one variable (like Age or City).\n",
    "* You can easily select, filter, and transform data.\n",
    "\n",
    "👉 Pandas makes it possible to do **in Python what SQL does in databases**.\n",
    "\n",
    "---\n",
    "\n",
    "### 🔹 Why use both NumPy and Pandas?\n",
    "\n",
    "* **NumPy**: For raw **mathematical computation** (fast, efficient arrays).\n",
    "* **Pandas**: For working with **structured datasets** (tables with rows and columns).\n",
    "\n",
    "They are usually used **together**: Pandas stores data in DataFrames, but internally it uses NumPy arrays for speed.\n",
    "\n",
    "---\n",
    "\n",
    "## 🟡 Part 2: Importing Data (CSV, Excel, SQL)\n",
    "\n",
    "Now that you know how to create data manually, let’s see how to **import real-world datasets**. Most of your work as a data analyst will start with *loading data into Pandas*.\n",
    "\n",
    "---\n",
    "\n",
    "### 🔹 Importing CSV Files\n",
    "\n",
    "CSV = **Comma Separated Values**, the most common way to store data.\n",
    "\n",
    "Load into Pandas:\n",
    "\n"
   ]
  },
  {
   "cell_type": "code",
   "execution_count": 7,
   "id": "1f8650ac-dd9e-4012-a3de-c8dc80cb4d79",
   "metadata": {},
   "outputs": [
    {
     "name": "stdout",
     "output_type": "stream",
     "text": [
      "✅ customers.csv created successfully!\n"
     ]
    }
   ],
   "source": [
    "import pandas as pd\n",
    "\n",
    "data = {\n",
    "    \"customer_id\": [101, 102, 103, 104, 105, 106, 107, 108, 109, 110],\n",
    "    \"first_name\": [\"John\", \"Mary\", \"Alex\", \"John\", \"Sophia\", \"Liam\", \"Olivia\", \"Noah\", \"Emma\", \"James\"],\n",
    "    \"last_name\": [\"Smith\", \"Jones\", \"Brown\", \"Smith\", \"Wilson\", \"Taylor\", \"Johnson\", \"Williams\", \"Brown\", \"Davis\"],\n",
    "    \"age\": [35, None, 42, 35, 29, None, 31, 27, 29, 45],\n",
    "    \"city\": [\"London\", \"Bristol\", None, \"London\", \"Manchester\", \"Liverpool\", \"Leeds\", \"London\", \"Cardiff\", \"Bristol\"],\n",
    "    \"email\": [\n",
    "        \"john@gmail.com\",\n",
    "        \"mary@yahoo.com\",\n",
    "        \"alex@gmail.com\",\n",
    "        \"john@gmail.com\",\n",
    "        \"sophia.wilson@gmail.com\",\n",
    "        \"liam_taylor@hotmail.com\",\n",
    "        \"olivia.j@outlook.com\",\n",
    "        \"noah.williams@gmail\",\n",
    "        \"emma_brown@@gmail.com\",\n",
    "        \"james.davis@yahoo.com\"\n",
    "    ]\n",
    "}\n",
    "\n",
    "df = pd.DataFrame(data)\n",
    "df.to_csv(\"customers.csv\", index=False)\n",
    "print(\"✅ customers.csv created successfully!\")"
   ]
  },
  {
   "cell_type": "code",
   "execution_count": 8,
   "id": "15b4bf38-bfca-4a13-8a52-adb2326c1e53",
   "metadata": {},
   "outputs": [
    {
     "name": "stdout",
     "output_type": "stream",
     "text": [
      "   customer_id first_name last_name   age        city                    email\n",
      "0          101       John     Smith  35.0      London           john@gmail.com\n",
      "1          102       Mary     Jones   NaN     Bristol           mary@yahoo.com\n",
      "2          103       Alex     Brown  42.0         NaN           alex@gmail.com\n",
      "3          104       John     Smith  35.0      London           john@gmail.com\n",
      "4          105     Sophia    Wilson  29.0  Manchester  sophia.wilson@gmail.com\n"
     ]
    }
   ],
   "source": [
    "df = pd.read_csv(\"customers.csv\")\n",
    "print(df.head())   # shows first 5 rows"
   ]
  },
  {
   "cell_type": "markdown",
   "id": "0ff0ed77-45cc-4475-9bc1-0fef8bf3dd81",
   "metadata": {},
   "source": [
    "👉 Once in Pandas, you can filter, group, and analyze this data.\n",
    "\n",
    "---\n",
    "\n",
    "### 🔹 Importing Excel Files\n",
    "\n",
    "Excel is another very common format. Pandas supports reading directly from `.xlsx` files.\n",
    "\n",
    "Example:"
   ]
  },
  {
   "cell_type": "code",
   "execution_count": 11,
   "id": "70e4f4c8-52ef-4e7d-8d4d-080b48bd6ef7",
   "metadata": {},
   "outputs": [
    {
     "name": "stdout",
     "output_type": "stream",
     "text": [
      "   order_id  customer_id order_date product  quantity  price\n",
      "0      2001          101 2024-01-12  Laptop         1   1200\n",
      "1      2002          102 2024-02-15  Tablet         2    600\n",
      "2      2003          101 2024-03-05   Phone         1    800\n",
      "3      2004          103 2024-03-10  Laptop         1   1500\n",
      "4      2005          104 2024-04-01   Phone         3    750\n"
     ]
    }
   ],
   "source": [
    "import pandas as pd\n",
    "\n",
    "df = pd.read_excel(\"sales.xlsx\", sheet_name=\"2024\")\n",
    "print(df.head())\n"
   ]
  },
  {
   "cell_type": "markdown",
   "id": "adb05a86-f03e-4013-ac40-58cd67efc13a",
   "metadata": {},
   "source": [
    "\n",
    "* `sheet_name=\"2024\"` tells Pandas which Excel sheet to load.\n",
    "* Requires installing `openpyxl` library.\n",
    "\n",
    "---\n",
    "\n",
    "### 🔹 Importing from SQL Databases\n",
    "\n",
    "Sometimes data isn’t stored in files but in a **database** (MySQL, PostgreSQL, SQLite, etc.). You can query the database using SQL and directly load the results into a Pandas DataFrame.\n",
    "\n",
    "Example with SQLite:\n"
   ]
  },
  {
   "cell_type": "markdown",
   "id": "d3e60e81-6c1f-4ca0-b8f5-57473d1460b4",
   "metadata": {},
   "source": [
    "\n",
    "import sqlite3\n",
    "import pandas as pd\n",
    "\n",
    "conn = sqlite3.connect(\"company.db\")\n",
    "df = pd.read_sql(\"SELECT * FROM employees\", conn)\n",
    "print(df)\n",
    "conn.close()\n"
   ]
  },
  {
   "cell_type": "markdown",
   "id": "29f49777-4176-4753-a57c-73df79adfaa1",
   "metadata": {},
   "source": [
    "\n",
    "👉 This combines **SQL** (to fetch data) and **Pandas** (to analyze it).\n",
    "\n",
    "---\n",
    "\n",
    "## ✅ Recap so far\n",
    "\n",
    "* **NumPy** = efficient number crunching with arrays.\n",
    "* **Pandas** = tables (DataFrames) for structured data analysis.\n",
    "* **Importing Data**: You can bring in CSV, Excel, or SQL tables into Pandas and start analyzing.\n",
    "\n",
    "At this stage, you can:\n",
    "\n",
    "1. Create a DataFrame.\n",
    "2. Load real-world datasets into Pandas.\n",
    "3. Use NumPy functions for calculations.\n",
    "\n",
    "---\n",
    "\n",
    "📌 Next in Module 4, we’ll move to:\n",
    "\n",
    "* Data cleaning & transformation\n",
    "* Exploratory Data Analysis (EDA)\n",
    "* Visualization with Matplotlib & Seaborn\n",
    "* Time-series analysis\n",
    "\n",
    "---\n",
    "\n"
   ]
  },
  {
   "cell_type": "markdown",
   "id": "d426ad60-045c-4231-9b85-0f448e208a6f",
   "metadata": {},
   "source": [
    "##"
   ]
  }
 ],
 "metadata": {
  "kernelspec": {
   "display_name": "Python 3 (ipykernel)",
   "language": "python",
   "name": "python3"
  },
  "language_info": {
   "codemirror_mode": {
    "name": "ipython",
    "version": 3
   },
   "file_extension": ".py",
   "mimetype": "text/x-python",
   "name": "python",
   "nbconvert_exporter": "python",
   "pygments_lexer": "ipython3",
   "version": "3.12.7"
  }
 },
 "nbformat": 4,
 "nbformat_minor": 5
}
