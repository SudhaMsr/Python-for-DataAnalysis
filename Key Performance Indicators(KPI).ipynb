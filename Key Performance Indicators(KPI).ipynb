{
 "cells": [
  {
   "cell_type": "markdown",
   "id": "7a8f0e98-beed-46f0-a29e-e8d3bb3bae40",
   "metadata": {},
   "source": [
    "###"
   ]
  },
  {
   "cell_type": "markdown",
   "id": "a3f6441a-22ec-4e04-84e3-d1d4b98624b7",
   "metadata": {},
   "source": [
    "\n",
    "---\n",
    "\n",
    "## 🔹 What are KPIs?\n",
    "\n",
    "* **Definition:** A KPI is a **measurable value** that shows how effectively a business, team, or project is achieving its objectives.\n",
    "* They help you track **progress toward a goal**.\n",
    "* Think of KPIs as the **“vital signs”** of a business, like pulse and blood pressure for a human.\n",
    "\n",
    "---\n",
    "\n",
    "## 🔹 Characteristics of a Good KPI\n",
    "\n",
    "A good KPI is usually **SMART**:\n",
    "\n",
    "* **S**pecific → clearly defined (e.g., \"Monthly sales revenue\")\n",
    "* **M**easurable → can be tracked numerically\n",
    "* **A**chievable → realistic target\n",
    "* **R**elevant → tied to business objectives\n",
    "* **T**ime-bound → measured over a specific period\n",
    "\n",
    "---\n",
    "\n",
    "## 🔹 Types of KPIs\n",
    "\n",
    "1. **Quantitative KPIs** → numeric, easy to measure\n",
    "\n",
    "   * Example: Monthly Revenue = $100,000\n",
    "\n",
    "2. **Qualitative KPIs** → descriptive, harder to measure\n",
    "\n",
    "   * Example: Customer Satisfaction Score (from surveys)\n",
    "\n",
    "3. **Leading KPIs** → predict future performance\n",
    "\n",
    "   * Example: Number of leads generated → predicts future sales\n",
    "\n",
    "4. **Lagging KPIs** → measure past results\n",
    "\n",
    "   * Example: Quarterly Profit → shows what already happened\n",
    "\n",
    "---\n",
    "\n",
    "## 🔹 Examples of KPIs by Domain\n",
    "\n",
    "* **Business / Sales**\n",
    "\n",
    "  * Revenue growth rate (%)\n",
    "  * Customer acquisition cost (CAC)\n",
    "  * Conversion rate (%)\n",
    "\n",
    "* **Marketing**\n",
    "\n",
    "  * Website traffic\n",
    "  * Click-through rate (CTR)\n",
    "  * Return on Ad Spend (ROAS)\n",
    "\n",
    "* **Operations**\n",
    "\n",
    "  * Average order processing time\n",
    "  * Inventory turnover rate\n",
    "\n",
    "* **Customer Service**\n",
    "\n",
    "  * Net Promoter Score (NPS)\n",
    "  * First response time\n",
    "  * Customer retention rate (%)\n",
    "\n",
    "\n"
   ]
  },
  {
   "cell_type": "markdown",
   "id": "13a396ac-b934-45b4-9642-1c6df7a7a165",
   "metadata": {},
   "source": [
    "---\n",
    "\n",
    "## 🔹 Difference Between KPI and Metric\n",
    "\n",
    "* **Metric:** Any measurable number (e.g., number of website visits).\n",
    "* **KPI:** A **critical metric** that directly aligns with a business goal (e.g., website visits → if your goal is lead generation).\n",
    "\n",
    "👉 In short: **All KPIs are metrics, but not all metrics are KPIs.**\n",
    "\n",
    "---\n",
    "\n",
    "✅ Example:\n",
    "If the goal is **“increase sales revenue by 20% this year”**\n",
    "\n",
    "* **Metric:** Number of customers visiting website\n",
    "* **KPI:** Monthly sales revenue\n",
    "\n",
    "---"
   ]
  },
  {
   "cell_type": "markdown",
   "id": "42105bd6-f77e-4fc2-b0fa-c2d1e423f948",
   "metadata": {},
   "source": [
    "####"
   ]
  }
 ],
 "metadata": {
  "kernelspec": {
   "display_name": "Python 3 (ipykernel)",
   "language": "python",
   "name": "python3"
  },
  "language_info": {
   "codemirror_mode": {
    "name": "ipython",
    "version": 3
   },
   "file_extension": ".py",
   "mimetype": "text/x-python",
   "name": "python",
   "nbconvert_exporter": "python",
   "pygments_lexer": "ipython3",
   "version": "3.12.7"
  }
 },
 "nbformat": 4,
 "nbformat_minor": 5
}
